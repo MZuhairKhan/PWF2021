{
 "cells": [
  {
   "cell_type": "code",
   "execution_count": 1,
   "metadata": {},
   "outputs": [],
   "source": [
    "# Filename: QML_Python_Worksheet_1.ipynb\n",
    "# Authors: Felipe Ixcamparic, Subadra Echeverria, M. Cerezo\n",
    "# Date: November 29, 2021\n",
    "# Description: First python exercice sheet.\n",
    "# Note: Unfortunately, github does not support inline latex equations, thus, the latex equations are NOT displayed correctly here. \n",
    "#       For an easy fix, download the notebook and open it on google collab."
   ]
  },
  {
   "cell_type": "markdown",
   "metadata": {
    "id": "V-m2R1-wVzVi"
   },
   "source": [
    "# QML Python Worksheet\n",
    "\n",
    "by M. Cerezo, Felipe Ixcamparic, Subadra Echeverria\n",
    "\n",
    "This set of exercises is aimed at introducing the basic tools that will be later used for a Quantum Machine Learning (QML) implementation. \n",
    "\n",
    "We refer the reader to the [Qiskit webpage](https://qiskit.org/documentation/tutorials/circuits/1_getting_started_with_qiskit.html) for further details."
   ]
  },
  {
   "cell_type": "markdown",
   "metadata": {
    "id": "BMh5xY5dXKaD"
   },
   "source": [
    "## Getting started\n",
    "\n",
    "First thing's first. Lets install some packages we will use."
   ]
  },
  {
   "cell_type": "code",
   "execution_count": null,
   "metadata": {
    "colab": {
     "base_uri": "https://localhost:8080/"
    },
    "id": "-Feh2DDlYkg2",
    "outputId": "5f616845-fff5-490f-f562-35ddfd0185fa",
    "tags": []
   },
   "outputs": [],
   "source": [
    "!pip install qiskit\n",
    "!pip install pylatexenc"
   ]
  },
  {
   "cell_type": "code",
   "execution_count": 2,
   "metadata": {
    "id": "GnDWSBaUVySY",
    "tags": []
   },
   "outputs": [],
   "source": [
    "import numpy as np\n",
    "import matplotlib\n",
    "from matplotlib import pyplot as plt\n",
    "from qiskit import QuantumCircuit, QuantumRegister, ClassicalRegister\n",
    "from qiskit import Aer, transpile, assemble, execute\n",
    "from qiskit.visualization import plot_histogram\n",
    "import qiskit.quantum_info as qi\n",
    "from qiskit.quantum_info import *\n",
    "from IPython.display import Image\n",
    "from IPython.core.display import HTML "
   ]
  },
  {
   "cell_type": "markdown",
   "metadata": {
    "id": "yIUtXh38WgVY"
   },
   "source": [
    "## Hello World of Quantum Circuits\n",
    "\n",
    "Here we will show how to use the basics of Qiskit. "
   ]
  },
  {
   "cell_type": "code",
   "execution_count": 3,
   "metadata": {
    "id": "e70wcJXgVlUM"
   },
   "outputs": [],
   "source": [
    "# Create a Quantum Circuit acting on a quantum register of two qubits\n",
    "qcirc = QuantumCircuit(2)"
   ]
  },
  {
   "cell_type": "markdown",
   "metadata": {
    "id": "uIgjd4LqaK4J"
   },
   "source": [
    "We want to write the circuit that prepares a Bell pair."
   ]
  },
  {
   "cell_type": "code",
   "execution_count": 4,
   "metadata": {
    "colab": {
     "base_uri": "https://localhost:8080/"
    },
    "id": "zAxrv2pwZ_ZX",
    "outputId": "fded8f7f-109b-4045-f84a-9695dd552edc"
   },
   "outputs": [
    {
     "data": {
      "text/plain": [
       "<qiskit.circuit.instructionset.InstructionSet at 0x7ff5045f7ac0>"
      ]
     },
     "execution_count": 4,
     "metadata": {},
     "output_type": "execute_result"
    }
   ],
   "source": [
    "# Add a H gate on qubit 0, putting this qubit in superposition.\n",
    "qcirc.h(0)\n",
    "# Add a CX (CNOT) gate on control qubit 0 and target qubit 1, putting\n",
    "# the qubits in a Bell state.\n",
    "qcirc.cx(0, 1)"
   ]
  },
  {
   "cell_type": "code",
   "execution_count": 5,
   "metadata": {
    "colab": {
     "base_uri": "https://localhost:8080/",
     "height": 94
    },
    "id": "LV9BEeVxaUWK",
    "outputId": "91483251-a151-41d2-debc-42defb7577ad"
   },
   "outputs": [
    {
     "data": {
      "image/png": "[encoded data removed]",
      "text/plain": [
       "<Figure size 206.852x144.48 with 1 Axes>"
      ]
     },
     "execution_count": 5,
     "metadata": {},
     "output_type": "execute_result"
    }
   ],
   "source": [
    "# We can visualize the circuit\n",
    "qcirc.draw()"
   ]
  },
  {
   "cell_type": "markdown",
   "metadata": {
    "id": "kHMISaCSb6SY"
   },
   "source": [
    "Qiskit has a function called `statevector_simulator' which prints the quantum state obtained at the output of the circuit."
   ]
  },
  {
   "cell_type": "code",
   "execution_count": 6,
   "metadata": {
    "colab": {
     "base_uri": "https://localhost:8080/"
    },
    "id": "Su0pl_hpaXK0",
    "outputId": "56798529-8ede-4cd5-ef69-a56fac095f7d"
   },
   "outputs": [
    {
     "name": "stdout",
     "output_type": "stream",
     "text": [
      "[0.70710678+0.j 0.        +0.j 0.        +0.j 0.70710678+0.j]\n"
     ]
    }
   ],
   "source": [
    "# Run the quantum circuit on a statevector simulator backend\n",
    "backend = Aer.get_backend('statevector_simulator')\n",
    "\n",
    "# Create a Quantum Program for execution\n",
    "job = backend.run(qcirc)\n",
    "result = job.result()\n",
    "outputstate = result.get_statevector(qcirc, decimals=10)\n",
    "print(outputstate)"
   ]
  },
  {
   "cell_type": "markdown",
   "metadata": {
    "id": "mpZ7dv1whNZQ"
   },
   "source": [
    "We can also simulate quantum measurements. For this purpose, we need to add measurements to the original circuit above, and use a different Aer backend."
   ]
  },
  {
   "cell_type": "code",
   "execution_count": 7,
   "metadata": {
    "colab": {
     "base_uri": "https://localhost:8080/",
     "height": 125
    },
    "id": "9q2Gmou7hWMq",
    "outputId": "aa86dc7b-78f3-411b-9c97-f0648e2b7be1"
   },
   "outputs": [
    {
     "data": {
      "image/png": "[encoded data removed]",
      "text/plain": [
       "<Figure size 387.452x204.68 with 1 Axes>"
      ]
     },
     "execution_count": 7,
     "metadata": {},
     "output_type": "execute_result"
    }
   ],
   "source": [
    "# Create a Quantum Circuit with 2 quantum registers and 2 classical registers\n",
    "meas = QuantumCircuit(2, 2)\n",
    "meas.barrier(range(2))\n",
    "# map the quantum measurement to the classical bits\n",
    "meas.measure(range(2), range(2))\n",
    "\n",
    "# The Qiskit circuit object supports composition using the addition operator.\n",
    "qcirc.add_register(meas.cregs[0])\n",
    "qc = qcirc.compose(meas)\n",
    "\n",
    "#drawing the circuit\n",
    "qc.draw()"
   ]
  },
  {
   "cell_type": "code",
   "execution_count": 8,
   "metadata": {
    "id": "y9rUDwwfhLwC"
   },
   "outputs": [],
   "source": [
    "# Use Aer's qasm_simulator\n",
    "backend_sim = Aer.get_backend('qasm_simulator')\n",
    "\n",
    "# Execute the circuit on the qasm simulator. We've set the number of repeats of the circuit to be 1024, which is the default.\n",
    "N_shots=1024\n",
    "job_sim = backend_sim.run(transpile(qc, backend_sim), shots=N_shots)\n",
    "\n",
    "# Grab the results from the job.\n",
    "result_sim = job_sim.result()"
   ]
  },
  {
   "cell_type": "code",
   "execution_count": 9,
   "metadata": {
    "colab": {
     "base_uri": "https://localhost:8080/"
    },
    "id": "Bckfwf-Qh8le",
    "outputId": "0b8116dd-7ee3-4ef9-c51f-a9c4b51f64e9"
   },
   "outputs": [
    {
     "name": "stdout",
     "output_type": "stream",
     "text": [
      "{'00': 497, '11': 527}\n",
      "{'00': 0.4853515625, '11': 0.5146484375}\n"
     ]
    }
   ],
   "source": [
    "# We can print the measurement outcomes and the probability of each outcome\n",
    "counts = result_sim.get_counts(qc)\n",
    "print(counts)\n",
    "probability={}\n",
    "for ele in counts:\n",
    "  probability[ele]=counts[ele]/N_shots\n",
    "print(probability)"
   ]
  },
  {
   "cell_type": "code",
   "execution_count": 10,
   "metadata": {
    "colab": {
     "base_uri": "https://localhost:8080/",
     "height": 331
    },
    "id": "hc-sfIn6iJAb",
    "outputId": "e6a5f575-bc70-49c2-cb83-d80c49fc05b7"
   },
   "outputs": [
    {
     "data": {
      "image/png": "[encoded data removed]",
      "text/plain": [
       "<Figure size 504x360 with 1 Axes>"
      ]
     },
     "execution_count": 10,
     "metadata": {},
     "output_type": "execute_result"
    }
   ],
   "source": [
    "# And we can visualize them\n",
    "plot_histogram(counts)"
   ]
  },
  {
   "cell_type": "markdown",
   "metadata": {
    "id": "3h2N_C86hXGO"
   },
   "source": [
    "**Note**: This representation of the bitstring puts the most significant bit (MSB) in the left, and the least significant bit (LSB) on the right. This is the standard ordering of binary bitstrings. We order the qubits in the same way (qubit representing the MSB has index 0), which is why Qiskit uses a non-standard tensor product order."
   ]
  },
  {
   "cell_type": "markdown",
   "metadata": {
    "id": "-nPklh83j-CA"
   },
   "source": [
    "We can double-check that the error in those probabilities are within the statistical uncertainty of order $1/\\sqrt{N}$. Here $N=1024$. We recall that this uncertainty tells us that $p(i)=N_i/N\\pm 1/\\sqrt{N}$, where $N_i$ is the probability of the $i$-th outcome."
   ]
  },
  {
   "cell_type": "code",
   "execution_count": 11,
   "metadata": {
    "colab": {
     "base_uri": "https://localhost:8080/"
    },
    "id": "y3ZysP2UisEF",
    "outputId": "edfc4583-771c-452d-e881-7cd83009e184"
   },
   "outputs": [
    {
     "name": "stdout",
     "output_type": "stream",
     "text": [
      "0.03125\n"
     ]
    }
   ],
   "source": [
    "statistical_error=1/N_shots**.5\n",
    "print(statistical_error)"
   ]
  },
  {
   "cell_type": "markdown",
   "metadata": {
    "id": "-Njtys_EZcrz"
   },
   "source": [
    "We can also check that the measurement outcomes are correct by using the  `statevector_simulator' and computing $p(00)=\\text{Tr}[M_{00} \\rho]$, with $\\rho=|\\psi\\rangle\\langle\\psi|$.\n",
    "\n",
    "Here, we use $M_{00}=|0\\rangle\\langle 0|\\otimes|0\\rangle\\langle 0|=\\begin{pmatrix}1&0\\\\0&0\\end{pmatrix}\\otimes \\begin{pmatrix}1&0\\\\0&0\\end{pmatrix}=\\begin{pmatrix}1&0&0&0\\\\0&0&0&0\\\\0&0&0&0\\\\0&0&0&0\\end{pmatrix}$."
   ]
  },
  {
   "cell_type": "code",
   "execution_count": 12,
   "metadata": {
    "colab": {
     "base_uri": "https://localhost:8080/"
    },
    "id": "yvcrqMjCaM57",
    "outputId": "c3ce3551-f739-482e-9657-47d789805e5e"
   },
   "outputs": [
    {
     "name": "stdout",
     "output_type": "stream",
     "text": [
      "(0.5000000000190247+0j)\n"
     ]
    }
   ],
   "source": [
    "M00=np.array([[1,0,0,0],[0,0,0,0],[0,0,0,0],[0,0,0,0]])\n",
    "rho=np.outer(outputstate, outputstate.conjugate())\n",
    "p00=np.trace(np.matmul(M00,rho))\n",
    "print(p00)"
   ]
  },
  {
   "cell_type": "markdown",
   "metadata": {
    "id": "9OKBTUuj8Mqk"
   },
   "source": [
    "We can also create a circuit where we only measure one qubit.\n"
   ]
  },
  {
   "cell_type": "code",
   "execution_count": 13,
   "metadata": {
    "colab": {
     "base_uri": "https://localhost:8080/",
     "height": 94
    },
    "id": "TrtjKlxEYY6z",
    "outputId": "7fb2b53d-dc9e-4408-a009-ff8021539977"
   },
   "outputs": [
    {
     "data": {
      "image/png": "[encoded data removed]",
      "text/plain": [
       "<Figure size 206.852x144.48 with 1 Axes>"
      ]
     },
     "execution_count": 13,
     "metadata": {},
     "output_type": "execute_result"
    }
   ],
   "source": [
    "# Create a Quantum Circuit acting on a quantum register of two qubits\n",
    "qcirc2 = QuantumCircuit(2)\n",
    "qcirc2.h(0)\n",
    "qcirc2.cx(0, 1)\n",
    "qcirc2.draw()"
   ]
  },
  {
   "cell_type": "code",
   "execution_count": 14,
   "metadata": {
    "colab": {
     "base_uri": "https://localhost:8080/",
     "height": 125
    },
    "id": "cI-0BSQ58Lsa",
    "outputId": "d80d5ee7-1aeb-4f1c-cf18-d6037f3abeb3"
   },
   "outputs": [
    {
     "data": {
      "image/png": "[encoded data removed]",
      "text/plain": [
       "<Figure size 327.252x204.68 with 1 Axes>"
      ]
     },
     "execution_count": 14,
     "metadata": {},
     "output_type": "execute_result"
    }
   ],
   "source": [
    "# Create a Quantum Circuit with 2 quantum registers and 1 classical registers\n",
    "meas2 = QuantumCircuit(2, 1)\n",
    "meas2.barrier(range(2))\n",
    "# map the quantum measurement to the classical bits\n",
    "meas2.measure(0, 0)\n",
    "\n",
    "# The Qiskit circuit object supports composition using the addition operator.\n",
    "qcirc2.add_register(meas2.cregs[0])\n",
    "qc2 = qcirc2.compose(meas2)\n",
    "\n",
    "#drawing the circuit\n",
    "qc2.draw()"
   ]
  },
  {
   "cell_type": "markdown",
   "metadata": {
    "id": "IsWYgFa98nqn"
   },
   "source": [
    "These are the measurement outcomes."
   ]
  },
  {
   "cell_type": "code",
   "execution_count": 15,
   "metadata": {
    "colab": {
     "base_uri": "https://localhost:8080/"
    },
    "id": "CVzbe3uz8mxV",
    "outputId": "7074214a-cee5-49c2-a403-73db94d87406"
   },
   "outputs": [
    {
     "name": "stdout",
     "output_type": "stream",
     "text": [
      "{'1': 524, '0': 500}\n",
      "{'1': 0.51171875, '0': 0.48828125}\n"
     ]
    }
   ],
   "source": [
    "# Use Aer's qasm_simulator\n",
    "backend_sim = Aer.get_backend('qasm_simulator')\n",
    "\n",
    "# Execute the circuit on the qasm simulator. We've set the number of repeats of the circuit to be 1024, which is the default.\n",
    "N_shots=1024\n",
    "job_sim = backend_sim.run(transpile(qc2, backend_sim), shots=N_shots)\n",
    "\n",
    "# Grab the results from the job.\n",
    "result_sim = job_sim.result()\n",
    "\n",
    "# We can print the measurement outcomes and the probability of each outcome\n",
    "counts = result_sim.get_counts(qc2)\n",
    "print(counts)\n",
    "probability={}\n",
    "for ele in counts:\n",
    "  probability[ele]=counts[ele]/N_shots\n",
    "print(probability)"
   ]
  },
  {
   "cell_type": "code",
   "execution_count": 16,
   "metadata": {
    "colab": {
     "base_uri": "https://localhost:8080/",
     "height": 323
    },
    "id": "ny53Unex82h-",
    "outputId": "e7e38d2f-95df-4971-a89f-5846303455ca"
   },
   "outputs": [
    {
     "data": {
      "image/png": "[encoded data removed]",
      "text/plain": [
       "<Figure size 504x360 with 1 Axes>"
      ]
     },
     "execution_count": 16,
     "metadata": {},
     "output_type": "execute_result"
    }
   ],
   "source": [
    "# And we can visualize them\n",
    "plot_histogram(counts)"
   ]
  },
  {
   "cell_type": "markdown",
   "metadata": {
    "id": "kTZQoG98eRGa"
   },
   "source": [
    "We can double check that the measurement outcomes are correct by using the  `statevector_simulator' and computing $p_A(0)=\\text{Tr}[(M_{0}\\otimes I_B) \\rho]$, with $\\rho=|\\psi\\rangle\\langle\\psi|$.\n",
    "\n",
    "Note that due to qiskit's qubit ordering convention, we need to build the kronecker product with different qubit ordering.\n",
    "\n",
    "Here, we use $(M_{0}\\otimes I_B)=\\begin{pmatrix}1&0\\\\0&1\\end{pmatrix}\\otimes \\begin{pmatrix}1&0\\\\0&0\\end{pmatrix}=\\begin{pmatrix}1&0&0&0\\\\0&0&0&0\\\\0&0&1&0\\\\0&0&0&0\\end{pmatrix}$."
   ]
  },
  {
   "cell_type": "code",
   "execution_count": 17,
   "metadata": {
    "colab": {
     "base_uri": "https://localhost:8080/"
    },
    "id": "t8iYK0FoeRGb",
    "outputId": "963810e7-a0df-42cb-e5eb-6368c1fd0160"
   },
   "outputs": [
    {
     "name": "stdout",
     "output_type": "stream",
     "text": [
      "(0.5000000000190247+0j)\n"
     ]
    }
   ],
   "source": [
    "M00=np.array([[1,0,0,0],[0,0,0,0],[0,0,1,0],[0,0,0,0]])\n",
    "rho=np.outer(outputstate, outputstate.conjugate())\n",
    "p00=np.trace(np.matmul(M00,rho))\n",
    "print(p00)"
   ]
  },
  {
   "cell_type": "markdown",
   "metadata": {
    "id": "lGwJ_uZt7awh"
   },
   "source": [
    "## Quantum Operations\n",
    "\n",
    "You can find a summary of Qiskit's quantum operations [here](https://github.com/Qiskit/qiskit-tutorials/blob/master/tutorials/circuits/3_summary_of_quantum_operations.ipynb).\n",
    "\n",
    "For now, let us create a single qubit state that is rotated about the $Y$-axis on an angle $\\theta$."
   ]
  },
  {
   "cell_type": "code",
   "execution_count": 18,
   "metadata": {
    "id": "aFkNVGCz7lEm"
   },
   "outputs": [],
   "source": [
    "def rotation_Y(quantum_circuit,theta)-> None:\n",
    "  '''\n",
    "    Applying a rotation about the Y axis to a single qubit\n",
    "\n",
    "    Parameters\n",
    "    ----------\n",
    "    quantum_circuit: QuantumCircuit\n",
    "      The quantum cirquit to which we apply ansatz\n",
    "    theta: float\n",
    "        The parameters for the R_y gate\n",
    "\n",
    "  '''\n",
    "  quantum_circuit.ry(theta,0)"
   ]
  },
  {
   "cell_type": "code",
   "execution_count": 19,
   "metadata": {
    "colab": {
     "base_uri": "https://localhost:8080/",
     "height": 63
    },
    "id": "jo-YI_dJ_Keb",
    "outputId": "b137b7f2-f4f6-4bf8-b77d-484826d5a766"
   },
   "outputs": [
    {
     "data": {
      "image/png": "[encoded data removed]",
      "text/plain": [
       "<Figure size 133.526x84.28 with 1 Axes>"
      ]
     },
     "execution_count": 19,
     "metadata": {},
     "output_type": "execute_result"
    }
   ],
   "source": [
    "# We set theta=pi/2\n",
    "qcirc3 = QuantumCircuit(1)\n",
    "rotation_Y(qcirc3,np.pi/2)\n",
    "qcirc3.draw()"
   ]
  },
  {
   "cell_type": "markdown",
   "metadata": {
    "id": "TE2XXMCRA6zr"
   },
   "source": [
    "We denote as $|\\psi(\\theta)\\rangle=R_y(\\theta)|0\\rangle$ the otput state from the previous circuit."
   ]
  },
  {
   "cell_type": "markdown",
   "metadata": {
    "id": "VJOY9NqakyON"
   },
   "source": [
    "### Computing expectation values.\n",
    "\n",
    "Here we will compute the expectation value of the $Z$ operator over a single qubit quantum state."
   ]
  },
  {
   "cell_type": "code",
   "execution_count": 21,
   "metadata": {
    "colab": {
     "base_uri": "https://localhost:8080/"
    },
    "id": "hX4GAsiij_ym",
    "outputId": "786bdab9-c2b4-4641-f034-317b1cc0a1d1"
   },
   "outputs": [
    {
     "name": "stdout",
     "output_type": "stream",
     "text": [
      "[[ 1  0]\n",
      " [ 0 -1]]\n",
      "[[ 1.+0.j  0.+0.j]\n",
      " [ 0.+0.j -1.+0.j]]\n"
     ]
    }
   ],
   "source": [
    "# First, let us define the Z-Pauli operator\n",
    "Z=np.array([[1,0],[0,-1]])\n",
    "print(Z)\n",
    "\n",
    "#We can also import it from qiskit as \n",
    "\n",
    "\n",
    "\n",
    "print(qi.Pauli('Z').to_matrix())"
   ]
  },
  {
   "cell_type": "markdown",
   "metadata": {
    "id": "cpWUJeC_lrvR"
   },
   "source": [
    "**Exercice 1:** \n",
    "\n",
    "Use the statevector_simulator backend to compute the expectation value of $Z$ as a function of $\\theta$. Here, use  matrix multiplication to compute $\\langle Z\\rangle=\\langle\\psi(\\theta)|Z|\\psi(\\theta)\\rangle$. Make a plot of $\\langle Z\\rangle$ versus $\\theta$.\n",
    "\n",
    "\n"
   ]
  },
  {
   "cell_type": "code",
   "execution_count": null,
   "metadata": {
    "id": "UmE9qFmsAmjE"
   },
   "outputs": [],
   "source": [
    "# Solution to Exercice 1:"
   ]
  },
  {
   "cell_type": "markdown",
   "metadata": {
    "id": "_yBaoBYUAcmT"
   },
   "source": [
    "**Exercice 2:**\n",
    "\n",
    "Simulate measurements to compute the expectation value of $Z$ as a function of $\\theta$."
   ]
  },
  {
   "cell_type": "code",
   "execution_count": null,
   "metadata": {
    "id": "UT-1giLJkxPw"
   },
   "outputs": [],
   "source": [
    "# Solution to Exercice 2:"
   ]
  },
  {
   "cell_type": "markdown",
   "metadata": {
    "id": "0UE2-ZPOB7ft"
   },
   "source": [
    "## First Variational Quantum Algorithm\n",
    "\n",
    "From the previous, we see that it is very easy to verify that $\\langle Z\\rangle$ is minimized for $\\theta=-\\pi$. However, we want to solve this problem numerically. First, we load an optimizer."
   ]
  },
  {
   "cell_type": "code",
   "execution_count": null,
   "metadata": {
    "id": "U7dlfn72Aark"
   },
   "outputs": [],
   "source": [
    "# Load an optimization package\n",
    "from scipy.optimize import minimize"
   ]
  },
  {
   "cell_type": "markdown",
   "metadata": {
    "id": "qJVZJNZWCatA"
   },
   "source": [
    "**Exercice 3:** \n",
    "Define a cost function $C(\\theta)$ that takes as input a parameter $\\theta$ and outputs $\\langle\\psi(\\theta)|Z|\\psi(\\theta)\\rangle$."
   ]
  },
  {
   "cell_type": "code",
   "execution_count": null,
   "metadata": {
    "id": "Rr4bxmwqCHT1"
   },
   "outputs": [],
   "source": [
    "# Solution to Exercice 3:\n",
    "def cost_function(theta):\n",
    "  '''\n",
    "  Define here.\n",
    "  '''\n",
    "  return(cost_value)\n"
   ]
  },
  {
   "cell_type": "code",
   "execution_count": null,
   "metadata": {
    "id": "zDnwUXQ_DCzh"
   },
   "outputs": [],
   "source": [
    "## We can optimize the cost function using the minimize function.\n",
    "\n",
    "# First, we set a random parameter to start the optimziation\n",
    "t0 = np.random.rand() * 2 * np.pi\n",
    "\n",
    "# We then run the optimization using the COBYLA method, with a maximum of 300 iteration steps\n",
    "out = minimize(cost_function, t0, method=\"COBYLA\", options={'maxiter':300})"
   ]
  },
  {
   "cell_type": "markdown",
   "metadata": {
    "id": "rMeIDjibC8Pk"
   },
   "source": [
    "**Exercice 4:** \n",
    "Verify that the optimization finds the correct solution of $\\theta=-\\pi\\,\\, \\text{mod}(2\\pi)$."
   ]
  },
  {
   "cell_type": "markdown",
   "metadata": {
    "id": "1EtYDZpIE0eG"
   },
   "source": [
    "**Exercice 5:** \n",
    "Plot the cost function value versus iteration step.\n",
    "\n",
    "Tip: define an empty array `cost_function_values = [ ]` and add a line to the cost function that appends cost value to the previous array: `cost_function_values.append( )`."
   ]
  },
  {
   "cell_type": "code",
   "execution_count": null,
   "metadata": {
    "id": "PLj_IcjRFUkT"
   },
   "outputs": [],
   "source": [
    "# Solution to Exercice 5:"
   ]
  },
  {
   "cell_type": "markdown",
   "metadata": {
    "id": "SHKHLq3KFUJM"
   },
   "source": [
    "## Second Variational Quantum Algorithm\n",
    "\n",
    "Here we implement a variational algorithm in two qubits."
   ]
  },
  {
   "cell_type": "code",
   "execution_count": null,
   "metadata": {
    "id": "Bn-kUITZEv2U"
   },
   "outputs": [],
   "source": [
    "# First, let us define a two qubit gate that we will use as a basis for the parametrized two qubit circuit.\n",
    "\n",
    "def two_qubit_gate(quantum_circuit,parameters,q0,q1)-> None:\n",
    "  '''\n",
    "    Applying a rotation about the Y axis to a single qubit\n",
    "\n",
    "    Parameters\n",
    "    ----------\n",
    "    quantum_circuit: QuantumCircuit\n",
    "      The quantum cirquit to which we apply ansatz\n",
    "    parameters: float\n",
    "        The parameters for the rotations \n",
    "    q1: int\n",
    "      first qubit that the gate acts on\n",
    "    q2: int\n",
    "      second qubit that the gate acts on\n",
    "\n",
    "  '''\n",
    "  quantum_circuit.ry(parameters[0],q0)\n",
    "  quantum_circuit.ry(parameters[1],q1)\n",
    "  quantum_circuit.cx(q0,q1)\n",
    "  quantum_circuit.ry(parameters[2],q0)\n",
    "  quantum_circuit.ry(parameters[3],q1)\n"
   ]
  },
  {
   "cell_type": "code",
   "execution_count": null,
   "metadata": {
    "colab": {
     "base_uri": "https://localhost:8080/",
     "height": 94
    },
    "id": "dPc3cSodEzIi",
    "outputId": "84721735-8f27-48c1-bc97-9a52552f74c5"
   },
   "outputs": [],
   "source": [
    "# Here we show the action of the two-qubit gate with 4 random angles\n",
    "random_parameters = np.random.rand(4) * 2 * np.pi\n",
    "qcirc4 = QuantumCircuit(2)\n",
    "two_qubit_gate(qcirc4,random_parameters,0,1)\n",
    "qcirc4.draw()"
   ]
  },
  {
   "cell_type": "markdown",
   "metadata": {
    "id": "EuXIPQ9pGvTo"
   },
   "source": [
    "**Exercice 6:** \n",
    "If we apply two layers of the `two_qubit_gate unitary` we will have a redundancy of two Ry gates acting one after the other. How can we remove this parameter redundancy?"
   ]
  },
  {
   "cell_type": "code",
   "execution_count": null,
   "metadata": {
    "id": "7bEsUXiII8Y4"
   },
   "outputs": [],
   "source": [
    "# Solution to Exercice 6:"
   ]
  },
  {
   "cell_type": "markdown",
   "metadata": {
    "id": "woG1lVcsHEGx"
   },
   "source": [
    "**Exercice 7:**\n",
    "\n",
    "Write cost functions that minimize the expectation values $\\langle Z\\otimes Z\\rangle$ and $\\langle X\\otimes I\\rangle$."
   ]
  },
  {
   "cell_type": "code",
   "execution_count": null,
   "metadata": {
    "id": "s1y5aCH8I9ni"
   },
   "outputs": [],
   "source": [
    "# Solution to Exercice 7:"
   ]
  },
  {
   "cell_type": "markdown",
   "metadata": {
    "id": "YfVMM5u5HaVA"
   },
   "source": [
    "## The Ising Model\n",
    "The Ising model is a well-known condensed matter model that describes ferromagnetism in statistical mechanics. At its core, it describes interactions between spins in the systems and the interactions between the spins and an external magnetic field.\n",
    "\n",
    "The Hamiltonian of the model is\n",
    "\n",
    "$H=-\\sum_{i=1}^n X_i\\otimes X_{i+1}-g\\sum_{i=1}^n Z_i$.\n",
    "\n",
    "Here, the terms $X_i\\otimes X_{i+1}$ describe the spin-spin interaction, while $Z_i$ is the interaction between the spins and a magnetic field along the $z$ direction. \n",
    "\n",
    "This ground states of this model have a `phase transition` at $g=1$, such that for $g\\leq 1$ the states are paramegnetic, while for $g\\geq 1$ they are ferromagnetic."
   ]
  },
  {
   "cell_type": "markdown",
   "metadata": {
    "id": "9KBXSu7nIfCl"
   },
   "source": [
    "**Exercice 8:**\n",
    "\n",
    "Explicitly write the matrix for the Hamiltonian $H$ of the Ising model for $n=2,4,6$ spins. Then, make a plot of the eigenvalues of $H$ as a function of $g$. What happens at $g=1$?"
   ]
  },
  {
   "cell_type": "code",
   "execution_count": null,
   "metadata": {
    "id": "3YFrZkh0I_BM"
   },
   "outputs": [],
   "source": [
    "# Solution to Exercice 8:"
   ]
  },
  {
   "cell_type": "markdown",
   "metadata": {
    "id": "5oDVQbidJTkI"
   },
   "source": [
    "**Exercice 9:**\n",
    "\n",
    "Create a Variational Quantum Eigensolver (VQE) algorithm that finds the ground state of $H$ for $g=.25,.5,1.25,1.5$ (for $n=4$ or $n=6$).\n",
    "\n",
    "For this purpose, first create a layered ansatz as the one shown bellow."
   ]
  },
  {
   "cell_type": "code",
   "execution_count": null,
   "metadata": {},
   "outputs": [],
   "source": [
    "Image(url= \"https://entangledphysics.files.wordpress.com/2021/11/ansatz.png\")"
   ]
  },
  {
   "cell_type": "markdown",
   "metadata": {},
   "source": [
    "Here, $R_y$ are rotations about the $y$ axis (with independent angles). We show an ansatz with 3 layers."
   ]
  },
  {
   "cell_type": "code",
   "execution_count": null,
   "metadata": {
    "id": "9KL32BhHJ07a"
   },
   "outputs": [],
   "source": [
    "# Solution to Exercice 9:"
   ]
  },
  {
   "cell_type": "markdown",
   "metadata": {
    "id": "YlxjdZNEJ1Ax"
   },
   "source": [
    "## A Quantum Dataset\n",
    "The Ising model provides a perfect way to create a dataset for quantum machine learning. Specifically, we will here create a supervised learning task of clasfifying states according go the phase of matter they belong to.\n",
    "\n",
    "As previously mentioned, the ground states of the Ising model are paramagnetic for $g\\leq 1$, and ferromagnetic for $g\\geq 1$.\n",
    "\n",
    "As shown in the figure below, this allows us to create a dataset of ground states $|\\psi_i\\rangle$ belonging to the either the paramagnetic of ferromagnetic phase."
   ]
  },
  {
   "cell_type": "code",
   "execution_count": null,
   "metadata": {},
   "outputs": [],
   "source": [
    "Image(url=\"https://entangledphysics.files.wordpress.com/2021/11/qml.png\")"
   ]
  },
  {
   "cell_type": "markdown",
   "metadata": {
    "id": "KxQTot1aF-jA"
   },
   "source": [
    "**Exercice 10:**\n",
    "\n",
    "Randomly sample 30 fields $g$ in each phase and run VQE algorithms to create a dataset of $60$ ground states of the Ising model (for $n=6$). \n",
    "\n",
    "[Note: Check that VQE outputs the correct states! We want a high quality dataset. You can do this by only accepting VQE solutions that are within an error of 0.01 from the true value.]\n",
    "\n",
    "We will divide this data into 2 sets:\n",
    "\n",
    "A training set of $40$ states, and a testing set of $20$ states."
   ]
  },
  {
   "cell_type": "code",
   "execution_count": null,
   "metadata": {
    "id": "GxAlShJLKF83"
   },
   "outputs": [],
   "source": [
    "# Solution to Exercice 10:"
   ]
  },
  {
   "cell_type": "markdown",
   "metadata": {
    "id": "bRdBpvT7GAbr"
   },
   "source": [
    "\n",
    "Once we have the dataset, we can send the states trough a Quantum Neural Network that will learn to classify them. In this case, we will use a Quantum Convolutional Neural Network (QCNN). Below we show a QCNN for 4 qubits."
   ]
  },
  {
   "cell_type": "code",
   "execution_count": null,
   "metadata": {},
   "outputs": [],
   "source": [
    "Image(url=\"https://entangledphysics.files.wordpress.com/2021/11/qcnn.png \")"
   ]
  },
  {
   "cell_type": "markdown",
   "metadata": {
    "id": "hbO7244OG_FC"
   },
   "source": [
    "**Exercice 11:**\n",
    "\n",
    "Write a code for the QCNN ansatz."
   ]
  },
  {
   "cell_type": "code",
   "execution_count": null,
   "metadata": {
    "id": "59SfAoqzG9xZ"
   },
   "outputs": [],
   "source": [
    "# Solution to Exercice 11:"
   ]
  },
  {
   "cell_type": "markdown",
   "metadata": {
    "id": "0Rl0yxTXHGrc"
   },
   "source": [
    "The way in which we assign labels is by measuring the expectation value of the Pauli $Z$ operator on the output single-qubit state of the QCNN $\\rho_i(\\alpha)=\\text{Tr}_{trash}[|\\psi(\\alpha)\\rangle\\langle\\psi(\\alpha)|]$, where $\\alpha$ are the trainable parameters in the QCNN, $|\\psi(\\alpha)\\rangle$ the full state at the output of the QCNN, and $trash$ the subset of qubits that are not measured. In the picture above, $|\\psi(\\alpha)\\rangle$ is a pure state on four qubits and $\\rho_i(\\alpha)$ is the reduced state on the bottom qubit.\n",
    "\n",
    "That is, the assigned label is $\\widetilde{y}_i(\\alpha)=\\text{Tr}[\\rho_i(\\alpha)Z]$.\n",
    "\n",
    "Note that, one can always compute this expectation value (using qiskit inverse kronecker product notation) as \n",
    "\n",
    "$\\widetilde{y}_i(\\alpha)=\\text{Tr}[|\\psi_i(\\alpha)\\rangle\\langle \\psi_i(\\alpha)|(Z\\otimes I\\otimes I\\otimes I)]=\\langle \\psi_i(\\alpha)|(Z\\otimes I\\otimes I\\otimes I)|\\psi_i(\\alpha)\\rangle$.\n",
    "\n",
    "And we train the mean-squared error loss function:\n",
    "$\\mathcal{L}(\\alpha)=\\frac{1}{40}\\sum_{i=1}^{40}(\\widetilde{y}_i(\\alpha)-y_i)^2$."
   ]
  },
  {
   "cell_type": "markdown",
   "metadata": {
    "id": "Li0LyJUdHvN2"
   },
   "source": [
    "**Exercice 12:**\n",
    "\n",
    "Train the QCNN to classify quantum states according to the phase of matter that they belong to."
   ]
  },
  {
   "cell_type": "code",
   "execution_count": null,
   "metadata": {
    "id": "gc1sw8znH2qX"
   },
   "outputs": [],
   "source": [
    "# Solution to Exercice 12:"
   ]
  },
  {
   "cell_type": "markdown",
   "metadata": {
    "id": "l8GBLeOj2KAF"
   },
   "source": [
    "Once we have trained the QCNN, we need to test its accurancy in clasifying. However, the expectation values previously computed are continous numbers in $[-1,1]$, while the true labels are discrete values in the set $\\{-1,1\\}$.\n",
    "\n",
    "In order to assing a discrete label to each state, we need a discretizing function. For instance, this can be achieved by\n",
    "\n",
    "$\\widehat{y}_i=1$ if $\\widetilde{y}_i(\\alpha)\\geq 0$, \n",
    "\n",
    "and \n",
    "\n",
    "$\\widehat{y}_i=-1$ if $\\widetilde{y}_i(\\alpha)< 0$.\n",
    "\n",
    "Given this discretization, we can now use the $20$ states in the testing set  to check how many of the assigned labels $\\widehat{y}_i$ match with the true labels $y_i$."
   ]
  },
  {
   "cell_type": "markdown",
   "metadata": {
    "id": "jZiBxZDS24Wr"
   },
   "source": [
    "**Exercice 13:**\n",
    "\n",
    "Compute the percentage of correct label assignment on the testing set."
   ]
  },
  {
   "cell_type": "code",
   "execution_count": null,
   "metadata": {
    "id": "gd-X-CtP2qWw"
   },
   "outputs": [],
   "source": [
    "# Solution to Exercice 13:"
   ]
  }
 ],
 "metadata": {
  "colab": {
   "collapsed_sections": [],
   "name": "QML_Python_Worksheet_1.ipynb",
   "provenance": []
  },
  "kernelspec": {
   "display_name": "Qiskit v0.32.1 (ipykernel)",
   "language": "python",
   "name": "python3"
  },
  "language_info": {
   "codemirror_mode": {
    "name": "ipython",
    "version": 3
   },
   "file_extension": ".py",
   "mimetype": "text/x-python",
   "name": "python",
   "nbconvert_exporter": "python",
   "pygments_lexer": "ipython3",
   "version": "3.8.10"
  },
  "widgets": {
   "application/vnd.jupyter.widget-state+json": {
    "state": {},
    "version_major": 2,
    "version_minor": 0
   }
  }
 },
 "nbformat": 4,
 "nbformat_minor": 4
}
